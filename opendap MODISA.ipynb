{
 "cells": [
  {
   "cell_type": "code",
   "execution_count": 1,
   "metadata": {},
   "outputs": [],
   "source": [
    "import pydap.client\n",
    "import numpy as np\n",
    "import matplotlib.pyplot as plt\n",
    "\n",
    "import glob\n",
    "from subprocess import *\n",
    "import sys, os\n",
    "from pylab import *\n",
    "import pandas as pd \n",
    "import datetime\n",
    "from netCDF4 import Dataset\n",
    "import xarray as xr\n",
    "\n",
    "\n",
    "from ctypes import c_float, c_int, cdll, c_short\n",
    "from numpy.ctypeslib import ndpointer\n",
    "import time\n",
    "import multiprocessing "
   ]
  },
  {
   "cell_type": "markdown",
   "metadata": {},
   "source": [
    "## Setup C Interface"
   ]
  },
  {
   "cell_type": "code",
   "execution_count": 2,
   "metadata": {},
   "outputs": [],
   "source": [
    "so_file = '/home/gsilsbe/Documents/cafe/pycafe_multi.so'\n",
    "lib = cdll.LoadLibrary(so_file)\n",
    "c_cafe = lib.cafe\n",
    "c_cafe.restype = ndpointer(dtype=c_float, shape=(8,))\n",
    "\n",
    "cafe_in = np.empty((9, 4320*2160))\n",
    "cafe_in[:] = np.NaN\n",
    "dayofyear = 0\n",
    "\n",
    "def call_cafe(i):\n",
    "    return c_cafe(c_float(cafe_in[0, i]), c_float(cafe_in[1, i]), c_float(cafe_in[2, i]),  \n",
    "                 c_float(cafe_in[3, i]), c_float(cafe_in[4, i]), c_float(cafe_in[5, i]),  \n",
    "                 c_float(cafe_in[6, i]), c_float(cafe_in[7, i]), c_float(cafe_in[8, i]), c_int(dayofyear))\n"
   ]
  },
  {
   "cell_type": "markdown",
   "metadata": {},
   "source": [
    "## Functions called from Wrapper"
   ]
  },
  {
   "cell_type": "code",
   "execution_count": 3,
   "metadata": {},
   "outputs": [],
   "source": [
    "\n",
    "def nasa_url(d0, d1, ext):\n",
    "    return u'https://oceandata.sci.gsfc.nasa.gov:443/opendap/MODISA/L3SMI/' + d0.strftime('%Y') + '/' + d0.strftime('%j') + '/A' + d0.strftime('%Y') +  d0.strftime('%j') + d0.strftime('%Y') + d1.strftime('%j') + ext\n",
    "\n",
    "def osu_mld(yyyy, doy0):\n",
    "    mld_file = '/media/gsilsbe/SILSBE/hycom/osu/monthly/mld.' + yyyy + doy0 + '.hdf'\n",
    "    mld = xr.open_rasterio(mld_file)\n",
    "    mld['lon'] = mld['x'] *180/4320 - 180\n",
    "    mld['lat'] = mld['y'] *90/2160 - 90\n",
    "    mld = mld.swap_dims({'x': 'lon'}).sel(**{'lon': sorted(mld.lon)}).drop('x')\n",
    "    mld = mld.swap_dims({'y': 'lat'}).sel(**{'lat': sorted(mld.lat)}).drop('y')\n",
    "    mld.reindex(lat=list(reversed(mld.lat)))\n",
    "    mld = mld.squeeze()    \n",
    "    mld = mld.stack(z=('lat', 'lon'))\n",
    "    mld = mld.where(mld>0, np.nan)\n",
    "    return(mld)\n",
    "\n",
    "def bbw_file(mn):\n",
    "    return '/media/gsilsbe/SILSBE/common/bbw_400/9km2/bbw_400_' + mn + '_9km2.nc' \n"
   ]
  },
  {
   "cell_type": "markdown",
   "metadata": {},
   "source": [
    "## Giant Wrapper"
   ]
  },
  {
   "cell_type": "code",
   "execution_count": 4,
   "metadata": {},
   "outputs": [],
   "source": [
    "\n",
    "def cafe(date0, outdir):\n",
    "    \n",
    "    date1 = date0 + pd.DateOffset(months=1)  - pd.DateOffset(days=1)\n",
    "    dayofyear =  np.mean([date0.dayofyear, date1.dayofyear]).astype(int) #average day of year for daylength calcs\n",
    "    \n",
    "    outfile = outdir + '/A' + date0.strftime('%Y') + date0.strftime('%j')  + date1.strftime('%Y')  + date1.strftime('%j') + '.L3m_MO_cafe_9km.nc'\n",
    "\n",
    "    # Stack openDAP into 1D Arrays\n",
    "    cafe_in[0,:] = xr.open_dataset( nasa_url(date0, date1, '.L3m_MO_IOP_adg_443_giop_9km.nc'), engine='netcdf4').adg_443_giop.stack(z=('lat', 'lon'))\n",
    "    cafe_in[1,:] = xr.open_dataset( nasa_url(date0, date1, '.L3m_MO_IOP_aph_443_giop_9km.nc'), engine='netcdf4').aph_443_giop.stack(z=('lat', 'lon'))\n",
    "    cafe_in[2,:] = xr.open_dataset( nasa_url(date0, date1, '.L3m_MO_IOP_bbp_443_giop_9km.nc'), engine='netcdf4').bbp_443_giop.stack(z=('lat', 'lon'))\n",
    "    cafe_in[3,:] = xr.open_dataset( nasa_url(date0, date1, '.L3m_MO_IOP_bbp_s_giop_9km.nc'), engine='netcdf4').bbp_s_giop.stack(z=('lat', 'lon'))\n",
    "    cafe_in[5,:] = xr.open_dataset( nasa_url(date0, date1, '.L3m_MO_CHL_chlor_a_9km.nc'), engine='netcdf4').chlor_a.stack(z=('lat', 'lon'))\n",
    "    cafe_in[8,:] = xr.open_dataset( nasa_url(date0, date1, '.L3m_MO_PAR_par_9km.nc'), engine='netcdf4').par.stack(z=('lat', 'lon'))\n",
    "\n",
    "    lat = xr.open_dataset( nasa_url(date0, date1, '.L3m_MO_CHL_chlor_a_9km.nc'), engine='netcdf4').lat\n",
    "    lon = xr.open_dataset( nasa_url(date0, date1, '.L3m_MO_CHL_chlor_a_9km.nc'), engine='netcdf4').lon\n",
    "    attrs_in = xr.open_dataset(nasa_url(date0, date1, '.L3m_MO_PAR_par_9km.nc'), engine='netcdf4').attrs # file attributes\n",
    "\n",
    "    cafe_in[4,:]  = xr.open_dataset(bbw_file(date0.strftime('%m'))).bbw.stack(z=('lat', 'lon'))   \n",
    "    cafe_in[6,:] = -np.sort(- np.tile(lat, len(lon)))\n",
    "    cafe_in[7,:]  = osu_mld(date0.strftime('%Y'), date0.strftime('%j'))\n",
    "\n",
    "    # Create index of pixels where all data are present\n",
    "    rowsums = cafe_in.sum(axis=0)\n",
    "    pixloc = np.argwhere(np.isfinite(rowsums)).flatten()\n",
    "    \n",
    "    # Print some information about the run\n",
    "    print('PAR data file: ', attrs_in['id'])\n",
    "    print('Valid pixels:', len(pixloc), '% Coverage', round(100 * len(pixloc) / (len(lat) * len(lon)), 1))\n",
    "    start = time.time()  \n",
    "    print (datetime.datetime.now().strftime(\"%Y-%m-%d %H:%M:%S\"))\n",
    "    \n",
    "    # Run CAFE in Parallel\n",
    "    a_pool = multiprocessing.Pool(processes=15)\n",
    "    result = a_pool.map(call_cafe, pixloc)\n",
    "    a_pool.close()\n",
    "    a_pool.join()\n",
    "\n",
    "    # See how many minutes it takes\n",
    "    print('CAFE C Code Duration (mins):', round((time.time() - start)/60))\n",
    "    \n",
    "    # Convert C output to numpy array\n",
    "    cafe_out = np.array(result)\n",
    "    cafe_max = np.array([1,10,50,1,10,50,10,10])\n",
    "    cafe_scale = cafe_max/(2**16-1)\n",
    "    cafe_offset = 2**15*cafe_scale\n",
    "\n",
    "    def back_to_numpy(ind):\n",
    "        var = np.empty(2160 * 4320) * np.nan\n",
    "        np.put(var, pixloc, cafe_out[:,ind])\n",
    "        var = np.reshape(var, (2160, 4320))\n",
    "        var = np.where(var<0, np.nan, var)\n",
    "        var = np.where(var>cafe_max[ind], np.nan, var)\n",
    "        return(var)\n",
    "\n",
    "    npp = back_to_numpy(0)\n",
    "    gpp = back_to_numpy(1)\n",
    "    ap = back_to_numpy(2)\n",
    "    npp_mld = back_to_numpy(3)\n",
    "    gpp_mld = back_to_numpy(4)\n",
    "    ap_mld = back_to_numpy(5)\n",
    "    fnps =  back_to_numpy(6)          \n",
    "    fnps_mld =  back_to_numpy(7)\n",
    "\n",
    "    ds = xr.Dataset(\n",
    "        data_vars=dict(\n",
    "            npp=([\"lat\", \"lon\"], npp),\n",
    "            gpp=([\"lat\", \"lon\"], gpp),\n",
    "            ap=([\"lat\", \"lon\"], ap),\n",
    "            npp_mld=([\"lat\", \"lon\"], npp_mld),\n",
    "            gpp_mld=([ \"lat\", \"lon\"], gpp_mld),\n",
    "            ap_mld=([\"lat\", \"lon\"], ap_mld),\n",
    "            fnps=([\"lat\", \"lon\"], fnps),\n",
    "            fnps_mld=([\"lat\", \"lon\"], fnps_mld),\n",
    "        ),\n",
    "        coords={'time':date0, 'lat':lat, 'lon':lon},\n",
    "        attrs=dict(description = \"CAFE model output\",\n",
    "                   time_coverage_start = attrs_in['time_coverage_start'],\n",
    "                   time_coverage_end = attrs_in['time_coverage_end'],\n",
    "                   modis_processing_version = attrs_in['processing_version'],\n",
    "                   par_file = attrs_in['id'],\n",
    "                   cafe_so_file = 'pycafe_multi.so')\n",
    "    )\n",
    "    \n",
    "    ds.npp.attrs[\"long_name\"] = \"net primary production\"    \n",
    "    ds.npp.attrs[\"units\"] = \"mol C m-2 d-1\"\n",
    "    ds.gpp.attrs[\"long_name\"] = \"gross primary production\"    \n",
    "    ds.gpp.attrs[\"units\"] = \"mol C m-2 d-1\"\n",
    "    ds.ap.attrs[\"long_name\"] = \"photons absorbed by phytoplankton\"    \n",
    "    ds.ap.attrs[\"units\"] = \"mol photons m-2 d-1\"\n",
    "    ds.fnps.attrs[\"long_name\"] = \"fraction of non-photosynthetic pigments\"    \n",
    "    ds.fnps.attrs[\"units\"] = \"dimensionless\"    \n",
    "    ds.npp_mld.attrs[\"long_name\"] = \"net primary production in the mixed layer\"    \n",
    "    ds.npp_mld.attrs[\"units\"] = \"mol C m-2 d-1\"\n",
    "    ds.gpp_mld.attrs[\"long_name\"] = \"gross primary production in the mixed layer\"    \n",
    "    ds.gpp_mld.attrs[\"units\"] = \"mol C m-2 d-1\"\n",
    "    ds.ap_mld.attrs[\"long_name\"] = \"photons absorbed by phytoplankton in the mixed layer\"    \n",
    "    ds.ap_mld.attrs[\"units\"] = \"mol photons m-2 d-1\"\n",
    "    ds.fnps_mld.attrs[\"long_name\"] = \"fraction of non-photosynthetic pigments in the mixed layer\"    \n",
    "    ds.fnps_mld.attrs[\"units\"] = \"dimensionless\"\n",
    "\n",
    "    ds.to_netcdf(outfile, encoding={\n",
    "                 'npp': {\"dtype\": 'short', \"scale_factor\": cafe_scale[0],\"add_offset\": cafe_offset[0],\"_FillValue\": -32767},\n",
    "                 'gpp': {\"dtype\": 'short', \"scale_factor\": cafe_scale[1],\"add_offset\": cafe_offset[1],\"_FillValue\": -32767},\n",
    "                 'ap': {\"dtype\": 'short', \"scale_factor\": cafe_scale[2],\"add_offset\": cafe_offset[2],\"_FillValue\": -32767},\n",
    "                 'npp_mld': {\"dtype\": 'short', \"scale_factor\": cafe_scale[3],\"add_offset\": cafe_offset[3],\"_FillValue\": -32767},\n",
    "                 'gpp_mld': {\"dtype\": 'short', \"scale_factor\": cafe_scale[4],\"add_offset\": cafe_offset[4],\"_FillValue\": -32767},\n",
    "                 'ap_mld': {\"dtype\": 'short', \"scale_factor\": cafe_scale[5],\"add_offset\": cafe_offset[5],\"_FillValue\": -32767},\n",
    "                 'fnps': {\"dtype\": 'short', \"scale_factor\": cafe_scale[6],\"add_offset\": cafe_offset[6],\"_FillValue\": -32767},\n",
    "                 'fnps_mld': {\"dtype\": 'short', \"scale_factor\": cafe_scale[7],\"add_offset\": cafe_offset[7],\"_FillValue\": -32767}})\n"
   ]
  },
  {
   "cell_type": "code",
   "execution_count": 5,
   "metadata": {},
   "outputs": [
    {
     "name": "stderr",
     "output_type": "stream",
     "text": [
      "/home/gsilsbe/.conda/envs/mab/lib/python3.7/site-packages/rasterio/__init__.py:221: NotGeoreferencedWarning: Dataset has no geotransform set. The identity matrix may be returned.\n",
      "  s = DatasetReader(path, driver=driver, sharing=sharing, **kwargs)\n"
     ]
    },
    {
     "name": "stdout",
     "output_type": "stream",
     "text": [
      "PAR data file:  A20140012014031.L3b_MO_PAR.nc/L3/A20140012014031.L3b_MO_PAR.nc\n",
      "Valid pixels: 4255940 % Coverage 45.6\n",
      "2021-05-19 23:45:42\n",
      "CAFE C Code Duration (mins): 45\n"
     ]
    },
    {
     "name": "stderr",
     "output_type": "stream",
     "text": [
      "/home/gsilsbe/.conda/envs/mab/lib/python3.7/site-packages/rasterio/__init__.py:221: NotGeoreferencedWarning: Dataset has no geotransform set. The identity matrix may be returned.\n",
      "  s = DatasetReader(path, driver=driver, sharing=sharing, **kwargs)\n"
     ]
    },
    {
     "name": "stdout",
     "output_type": "stream",
     "text": [
      "PAR data file:  A20140322014059.L3b_MO_PAR.nc/L3/A20140322014059.L3b_MO_PAR.nc\n",
      "Valid pixels: 4437209 % Coverage 47.6\n",
      "2021-05-20 00:31:54\n",
      "CAFE C Code Duration (mins): 47\n"
     ]
    },
    {
     "name": "stderr",
     "output_type": "stream",
     "text": [
      "/home/gsilsbe/.conda/envs/mab/lib/python3.7/site-packages/rasterio/__init__.py:221: NotGeoreferencedWarning: Dataset has no geotransform set. The identity matrix may be returned.\n",
      "  s = DatasetReader(path, driver=driver, sharing=sharing, **kwargs)\n"
     ]
    },
    {
     "name": "stdout",
     "output_type": "stream",
     "text": [
      "PAR data file:  A20140602014090.L3b_MO_PAR.nc/L3/A20140602014090.L3b_MO_PAR.nc\n",
      "Valid pixels: 4492156 % Coverage 48.1\n",
      "2021-05-20 01:19:54\n",
      "CAFE C Code Duration (mins): 48\n"
     ]
    },
    {
     "name": "stderr",
     "output_type": "stream",
     "text": [
      "/home/gsilsbe/.conda/envs/mab/lib/python3.7/site-packages/rasterio/__init__.py:221: NotGeoreferencedWarning: Dataset has no geotransform set. The identity matrix may be returned.\n",
      "  s = DatasetReader(path, driver=driver, sharing=sharing, **kwargs)\n"
     ]
    },
    {
     "name": "stdout",
     "output_type": "stream",
     "text": [
      "PAR data file:  A20140912014120.L3b_MO_PAR.nc/L3/A20140912014120.L3b_MO_PAR.nc\n",
      "Valid pixels: 4063957 % Coverage 43.6\n",
      "2021-05-20 02:08:34\n",
      "CAFE C Code Duration (mins): 43\n"
     ]
    },
    {
     "name": "stderr",
     "output_type": "stream",
     "text": [
      "/home/gsilsbe/.conda/envs/mab/lib/python3.7/site-packages/rasterio/__init__.py:221: NotGeoreferencedWarning: Dataset has no geotransform set. The identity matrix may be returned.\n",
      "  s = DatasetReader(path, driver=driver, sharing=sharing, **kwargs)\n"
     ]
    },
    {
     "name": "stdout",
     "output_type": "stream",
     "text": [
      "PAR data file:  A20141212014151.L3b_MO_PAR.nc/L3/A20141212014151.L3b_MO_PAR.nc\n",
      "Valid pixels: 3698246 % Coverage 39.6\n",
      "2021-05-20 02:52:40\n",
      "CAFE C Code Duration (mins): 39\n"
     ]
    },
    {
     "name": "stderr",
     "output_type": "stream",
     "text": [
      "/home/gsilsbe/.conda/envs/mab/lib/python3.7/site-packages/rasterio/__init__.py:221: NotGeoreferencedWarning: Dataset has no geotransform set. The identity matrix may be returned.\n",
      "  s = DatasetReader(path, driver=driver, sharing=sharing, **kwargs)\n"
     ]
    },
    {
     "name": "stdout",
     "output_type": "stream",
     "text": [
      "PAR data file:  A20141522014181.L3b_MO_PAR.nc/L3/A20141522014181.L3b_MO_PAR.nc\n",
      "Valid pixels: 3414429 % Coverage 36.6\n",
      "2021-05-20 03:32:48\n",
      "CAFE C Code Duration (mins): 36\n"
     ]
    },
    {
     "name": "stderr",
     "output_type": "stream",
     "text": [
      "/home/gsilsbe/.conda/envs/mab/lib/python3.7/site-packages/rasterio/__init__.py:221: NotGeoreferencedWarning: Dataset has no geotransform set. The identity matrix may be returned.\n",
      "  s = DatasetReader(path, driver=driver, sharing=sharing, **kwargs)\n"
     ]
    },
    {
     "name": "stdout",
     "output_type": "stream",
     "text": [
      "PAR data file:  A20141822014212.L3b_MO_PAR.nc/L3/A20141822014212.L3b_MO_PAR.nc\n",
      "Valid pixels: 3621506 % Coverage 38.8\n",
      "2021-05-20 04:10:00\n",
      "CAFE C Code Duration (mins): 38\n"
     ]
    },
    {
     "name": "stderr",
     "output_type": "stream",
     "text": [
      "/home/gsilsbe/.conda/envs/mab/lib/python3.7/site-packages/rasterio/__init__.py:221: NotGeoreferencedWarning: Dataset has no geotransform set. The identity matrix may be returned.\n",
      "  s = DatasetReader(path, driver=driver, sharing=sharing, **kwargs)\n"
     ]
    },
    {
     "name": "stdout",
     "output_type": "stream",
     "text": [
      "PAR data file:  A20142132014243.L3b_MO_PAR.nc/L3/A20142132014243.L3b_MO_PAR.nc\n",
      "Valid pixels: 4072980 % Coverage 43.6\n",
      "2021-05-20 04:49:13\n",
      "CAFE C Code Duration (mins): 43\n"
     ]
    },
    {
     "name": "stderr",
     "output_type": "stream",
     "text": [
      "/home/gsilsbe/.conda/envs/mab/lib/python3.7/site-packages/rasterio/__init__.py:221: NotGeoreferencedWarning: Dataset has no geotransform set. The identity matrix may be returned.\n",
      "  s = DatasetReader(path, driver=driver, sharing=sharing, **kwargs)\n"
     ]
    },
    {
     "name": "stdout",
     "output_type": "stream",
     "text": [
      "PAR data file:  A20142442014273.L3b_MO_PAR.nc/L3/A20142442014273.L3b_MO_PAR.nc\n",
      "Valid pixels: 4349478 % Coverage 46.6\n",
      "2021-05-20 05:33:10\n",
      "CAFE C Code Duration (mins): 46\n"
     ]
    },
    {
     "name": "stderr",
     "output_type": "stream",
     "text": [
      "/home/gsilsbe/.conda/envs/mab/lib/python3.7/site-packages/rasterio/__init__.py:221: NotGeoreferencedWarning: Dataset has no geotransform set. The identity matrix may be returned.\n",
      "  s = DatasetReader(path, driver=driver, sharing=sharing, **kwargs)\n"
     ]
    },
    {
     "name": "stdout",
     "output_type": "stream",
     "text": [
      "PAR data file:  A20142742014304.L3b_MO_PAR.nc/L3/A20142742014304.L3b_MO_PAR.nc\n",
      "Valid pixels: 4271259 % Coverage 45.8\n",
      "2021-05-20 06:20:10\n",
      "CAFE C Code Duration (mins): 46\n"
     ]
    },
    {
     "name": "stderr",
     "output_type": "stream",
     "text": [
      "/home/gsilsbe/.conda/envs/mab/lib/python3.7/site-packages/rasterio/__init__.py:221: NotGeoreferencedWarning: Dataset has no geotransform set. The identity matrix may be returned.\n",
      "  s = DatasetReader(path, driver=driver, sharing=sharing, **kwargs)\n"
     ]
    },
    {
     "name": "stdout",
     "output_type": "stream",
     "text": [
      "PAR data file:  A20143052014334.L3b_MO_PAR.nc/L3/A20143052014334.L3b_MO_PAR.nc\n",
      "Valid pixels: 4068937 % Coverage 43.6\n",
      "2021-05-20 07:06:30\n",
      "CAFE C Code Duration (mins): 43\n"
     ]
    },
    {
     "name": "stderr",
     "output_type": "stream",
     "text": [
      "/home/gsilsbe/.conda/envs/mab/lib/python3.7/site-packages/rasterio/__init__.py:221: NotGeoreferencedWarning: Dataset has no geotransform set. The identity matrix may be returned.\n",
      "  s = DatasetReader(path, driver=driver, sharing=sharing, **kwargs)\n"
     ]
    },
    {
     "name": "stdout",
     "output_type": "stream",
     "text": [
      "PAR data file:  A20143352014365.L3b_MO_PAR.nc/L3/A20143352014365.L3b_MO_PAR.nc\n",
      "Valid pixels: 4051402 % Coverage 43.4\n",
      "2021-05-20 07:50:42\n",
      "CAFE C Code Duration (mins): 43\n"
     ]
    }
   ],
   "source": [
    "ts0 = pd.date_range(\"2014-01-01\", \"2014-12-31\", freq=\"MS\")\n",
    "outdir = '/media/gsilsbe/SILSBE/cafe/modisa/monthly/'\n",
    "\n",
    "for j in ts0:\n",
    "    cafe(j, outdir)"
   ]
  },
  {
   "cell_type": "code",
   "execution_count": null,
   "metadata": {},
   "outputs": [],
   "source": []
  }
 ],
 "metadata": {
  "kernelspec": {
   "display_name": "Python 3",
   "language": "python",
   "name": "python3"
  },
  "language_info": {
   "codemirror_mode": {
    "name": "ipython",
    "version": 3
   },
   "file_extension": ".py",
   "mimetype": "text/x-python",
   "name": "python",
   "nbconvert_exporter": "python",
   "pygments_lexer": "ipython3",
   "version": "3.7.10"
  }
 },
 "nbformat": 4,
 "nbformat_minor": 4
}
